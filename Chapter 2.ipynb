{
 "cells": [
  {
   "cell_type": "markdown",
   "metadata": {},
   "source": [
    "<font color=black size=10 face=\"STCAIYUN\">Chapter 2</font>"
   ]
  },
  {
   "cell_type": "markdown",
   "metadata": {},
   "source": [
    "<font color=blue size=6 face=\"STCAIYUN\">***Variable & Data type***</font>"
   ]
  },
  {
   "cell_type": "markdown",
   "metadata": {},
   "source": [
    "<font color=black size=3 face=\"STCAIYUN\">\n",
    "等號（=）用來給變量賦值。</font>\n",
    "<font color=black size=3 face=\"STCAIYUN\">\n",
    "等號（=）運算符左邊是一个變量名,等號（=）運算符右邊是儲存在變量中的值。\n",
    "</font>"
   ]
  },
  {
   "cell_type": "code",
   "execution_count": 1,
   "metadata": {},
   "outputs": [
    {
     "name": "stdout",
     "output_type": "stream",
     "text": [
      "a = 100\n",
      "a of type : <class 'int'>\n"
     ]
    }
   ],
   "source": [
    "a = 100     # 整數型變量\n",
    "print(\"a = {}\".format(a))\n",
    "print(\"a of type : {}\".format(type(a)))"
   ]
  },
  {
   "cell_type": "code",
   "execution_count": 2,
   "metadata": {},
   "outputs": [
    {
     "name": "stdout",
     "output_type": "stream",
     "text": [
      "b = 0.01\n",
      "b of type : <class 'float'>\n",
      "c = 10.0\n",
      "c of type : <class 'float'>\n"
     ]
    }
   ],
   "source": [
    "b = 0.01    # 浮點數變量\n",
    "c = 10.0\n",
    "\n",
    "print(\"b = {}\".format(b))\n",
    "print(\"b of type : {}\".format(type(b)))\n",
    "\n",
    "print(\"c = {}\".format(c))\n",
    "print(\"c of type : {}\".format(type(c)))"
   ]
  },
  {
   "cell_type": "code",
   "execution_count": 3,
   "metadata": {},
   "outputs": [
    {
     "name": "stdout",
     "output_type": "stream",
     "text": [
      "name = 斯斯\n",
      "name of type : <class 'str'>\n"
     ]
    }
   ],
   "source": [
    "name    = \"斯斯\"     # 字符串\n",
    "print(\"name = {}\".format(name))\n",
    "print(\"name of type : {}\".format(type(name)))"
   ]
  },
  {
   "cell_type": "code",
   "execution_count": 4,
   "metadata": {},
   "outputs": [
    {
     "name": "stdout",
     "output_type": "stream",
     "text": [
      "100 0.01 10.0 斯斯\n",
      "a of type : <class 'int'>\n",
      "b of type : <class 'float'>\n",
      "c of type : <class 'float'>\n",
      "name of type : <class 'str'>\n"
     ]
    }
   ],
   "source": [
    "print(a,b,c,name)\n",
    "print(\"a of type : {}\".format(type(a)))\n",
    "print(\"b of type : {}\".format(type(b)))\n",
    "print(\"c of type : {}\".format(type(c)))\n",
    "print(\"name of type : {}\".format(type(name)))"
   ]
  },
  {
   "cell_type": "code",
   "execution_count": 5,
   "metadata": {},
   "outputs": [
    {
     "name": "stdout",
     "output_type": "stream",
     "text": [
      "a : 斯斯 , b : 斯斯 , c : 斯斯 , name : 斯斯\n",
      "a of type : <class 'str'>\n",
      "b of type : <class 'str'>\n",
      "c of type : <class 'str'>\n",
      "name of type : <class 'str'>\n"
     ]
    }
   ],
   "source": [
    "a = b = c = name\n",
    "print(\"a : {} , b : {} , c : {} , name : {}\".format(a,b,c,name))\n",
    "print(\"a of type : {}\".format(type(a)))\n",
    "print(\"b of type : {}\".format(type(b)))\n",
    "print(\"c of type : {}\".format(type(c)))\n",
    "print(\"name of type : {}\".format(type(name)))"
   ]
  },
  {
   "cell_type": "code",
   "execution_count": 6,
   "metadata": {},
   "outputs": [
    {
     "name": "stdout",
     "output_type": "stream",
     "text": [
      "a : 1 , b : 2 , c : CHIU , name : 斯斯\n"
     ]
    }
   ],
   "source": [
    "a, b, c = 1, 2, \"CHIU\"\n",
    "print(\"a : {} , b : {} , c : {} , name : {}\".format(a,b,c,name))"
   ]
  },
  {
   "cell_type": "code",
   "execution_count": 7,
   "metadata": {},
   "outputs": [
    {
     "name": "stdout",
     "output_type": "stream",
     "text": [
      "T : True , F : False\n",
      "T of type : <class 'bool'>\n",
      "F of type : <class 'bool'>\n"
     ]
    }
   ],
   "source": [
    "T = True\n",
    "F = False\n",
    "print(\"T : {} , F : {}\" .format(T,F))\n",
    "print(\"T of type : {}\".format(type(T)))\n",
    "print(\"F of type : {}\".format(type(F)))"
   ]
  },
  {
   "cell_type": "code",
   "execution_count": 10,
   "metadata": {},
   "outputs": [
    {
     "name": "stdout",
     "output_type": "stream",
     "text": [
      "Complex : (4+3j) \n",
      "Complex of type : <class 'complex'>\n"
     ]
    }
   ],
   "source": [
    "Complex = 4+3j\n",
    "print(\"Complex : {} \" .format(Complex))\n",
    "print(\"Complex of type : {}\".format(type(Complex)))"
   ]
  },
  {
   "cell_type": "markdown",
   "metadata": {},
   "source": [
    "<font color=blue size=6 face=\"STCAIYUN\">\n",
    "運算\n",
    "</font>"
   ]
  },
  {
   "cell_type": "code",
   "execution_count": 45,
   "metadata": {},
   "outputs": [
    {
     "name": "stdout",
     "output_type": "stream",
     "text": [
      "a + b : 19\n",
      "a + b of type : <class 'int'>\n"
     ]
    }
   ],
   "source": [
    "# 加法\n",
    "a  = 9 ; b = 10\n",
    "print(\"a + b : {}\".format(a+b))\n",
    "print(\"a + b of type : {}\".format(type(a+b)))"
   ]
  },
  {
   "cell_type": "code",
   "execution_count": 46,
   "metadata": {},
   "outputs": [
    {
     "name": "stdout",
     "output_type": "stream",
     "text": [
      "c + d : 3.1\n",
      "c + d of type : <class 'float'>\n"
     ]
    }
   ],
   "source": [
    "c  = 1 ; d = 2.1\n",
    "print(\"c + d : {}\".format(c+d))\n",
    "print(\"c + d of type : {}\".format(type(c+d)))"
   ]
  },
  {
   "cell_type": "code",
   "execution_count": 61,
   "metadata": {},
   "outputs": [
    {
     "name": "stdout",
     "output_type": "stream",
     "text": [
      "Complex_1 + Complex_2 : (4+6j)\n",
      "Complex_1 + Complex_2 of type : <class 'complex'>\n"
     ]
    }
   ],
   "source": [
    "Complex_1 = 1 + 4j\n",
    "Complex_2 = 3 + 2j \n",
    "print(\"Complex_1 + Complex_2 : {}\".format(Complex_1+Complex_2))\n",
    "print(\"Complex_1 + Complex_2 of type : {}\".format(type(Complex_1+Complex_2)))"
   ]
  },
  {
   "cell_type": "code",
   "execution_count": 62,
   "metadata": {},
   "outputs": [
    {
     "name": "stdout",
     "output_type": "stream",
     "text": [
      "Complex_1 + Complex_2 : (4+6j)\n",
      "Complex_1 + Complex_2 of type : <class 'complex'>\n"
     ]
    }
   ],
   "source": [
    "Complex_1 = 1 + 4j\n",
    "Complex_2 = 3 + 2j \n",
    "print(\"Complex_1 + Complex_2 : {}\".format(Complex_1+Complex_2))\n",
    "print(\"Complex_1 + Complex_2 of type : {}\".format(type(Complex_1+Complex_2)))"
   ]
  },
  {
   "cell_type": "code",
   "execution_count": 55,
   "metadata": {},
   "outputs": [
    {
     "name": "stdout",
     "output_type": "stream",
     "text": [
      "a - b : -1\n",
      "a - b of type : <class 'int'>\n",
      "c - d : -1.1\n",
      "c - d of type : <class 'float'>\n"
     ]
    }
   ],
   "source": [
    "# 减法\n",
    "a  = 9 ; b = 10\n",
    "print(\"a - b : {}\".format(a-b))\n",
    "print(\"a - b of type : {}\".format(type(a-b)))\n",
    "c  = 1 ; d = 2.1\n",
    "print(\"c - d : {}\".format(c-d))\n",
    "print(\"c - d of type : {}\".format(type(c-d)))"
   ]
  },
  {
   "cell_type": "code",
   "execution_count": 56,
   "metadata": {},
   "outputs": [
    {
     "name": "stdout",
     "output_type": "stream",
     "text": [
      "Complex_1 - Complex_2 : (-2+4j)\n",
      "Complex_1 - Complex_2 of type : <class 'complex'>\n"
     ]
    }
   ],
   "source": [
    "Complex_1 = 1 + 4j\n",
    "Complex_2 = 3 + 2j \n",
    "print(\"Complex_1 - Complex_2 : {}\".format(Complex_1 - Complex_2))\n",
    "print(\"Complex_1 - Complex_2 of type : {}\".format(type(Complex_1 - Complex_2)))"
   ]
  },
  {
   "cell_type": "code",
   "execution_count": 58,
   "metadata": {},
   "outputs": [
    {
     "name": "stdout",
     "output_type": "stream",
     "text": [
      "a * b : 90\n",
      "a * b of type : <class 'int'>\n",
      "c * d : 2.1\n",
      "c * d of type : <class 'float'>\n"
     ]
    }
   ],
   "source": [
    "# 乘法\n",
    "a  = 9 ; b = 10\n",
    "print(\"a * b : {}\".format(a * b))\n",
    "print(\"a * b of type : {}\".format(type(a * b)))\n",
    "\n",
    "c  = 1 ; d = 2.1\n",
    "print(\"c * d : {}\".format(c*d))\n",
    "print(\"c * d of type : {}\".format(type(c*d)))"
   ]
  },
  {
   "cell_type": "code",
   "execution_count": 60,
   "metadata": {},
   "outputs": [
    {
     "name": "stdout",
     "output_type": "stream",
     "text": [
      "Complex_1 * Complex_2 : (-5+14j)\n",
      "Complex_1 * Complex_2 of type : <class 'complex'>\n"
     ]
    }
   ],
   "source": [
    "Complex_1 = 1 + 4j\n",
    "Complex_2 = 3 + 2j \n",
    "print(\"Complex_1 * Complex_2 : {}\".format(Complex_1 * Complex_2))\n",
    "print(\"Complex_1 * Complex_2 of type : {}\".format(type(Complex_1 * Complex_2)))"
   ]
  },
  {
   "cell_type": "code",
   "execution_count": 63,
   "metadata": {},
   "outputs": [
    {
     "name": "stdout",
     "output_type": "stream",
     "text": [
      "a / b : 3.0\n",
      "a / b of type : <class 'float'>\n",
      "c / d : 0.47619047619047616\n",
      "c / d of type : <class 'float'>\n"
     ]
    }
   ],
   "source": [
    "# 除法，得到一個浮點數\n",
    "a  = 9 ; b = 3\n",
    "print(\"a / b : {}\".format(a / b))\n",
    "print(\"a / b of type : {}\".format(type(a / b)))\n",
    "\n",
    "c  = 1 ; d = 2.1\n",
    "print(\"c / d : {}\".format(c/d))\n",
    "print(\"c / d of type : {}\".format(type(c/d)))"
   ]
  },
  {
   "cell_type": "code",
   "execution_count": 64,
   "metadata": {},
   "outputs": [
    {
     "name": "stdout",
     "output_type": "stream",
     "text": [
      "Complex_1 / Complex_2 : (0.8461538461538461+0.7692307692307693j)\n",
      "Complex_1 / Complex_2 of type : <class 'complex'>\n"
     ]
    }
   ],
   "source": [
    "Complex_1 = 1 + 4j\n",
    "Complex_2 = 3 + 2j \n",
    "print(\"Complex_1 / Complex_2 : {}\".format(Complex_1 / Complex_2))\n",
    "print(\"Complex_1 / Complex_2 of type : {}\".format(type(Complex_1 / Complex_2)))"
   ]
  },
  {
   "cell_type": "code",
   "execution_count": 65,
   "metadata": {},
   "outputs": [
    {
     "name": "stdout",
     "output_type": "stream",
     "text": [
      "a // b : 3\n",
      "a // b of type : <class 'int'>\n",
      "c // d : 0.0\n",
      "c // d of type : <class 'float'>\n"
     ]
    }
   ],
   "source": [
    "# 除法，得到一個整數\n",
    "a  = 9 ; b = 3\n",
    "print(\"a // b : {}\".format(a // b))\n",
    "print(\"a // b of type : {}\".format(type(a // b)))\n",
    "\n",
    "c  = 1 ; d = 2.1\n",
    "print(\"c // d : {}\".format(c // d))\n",
    "print(\"c // d of type : {}\".format(type(c // d)))"
   ]
  },
  {
   "cell_type": "code",
   "execution_count": 66,
   "metadata": {},
   "outputs": [
    {
     "ename": "TypeError",
     "evalue": "can't take floor of complex number.",
     "output_type": "error",
     "traceback": [
      "\u001b[1;31m---------------------------------------------------------------------------\u001b[0m",
      "\u001b[1;31mTypeError\u001b[0m                                 Traceback (most recent call last)",
      "\u001b[1;32m<ipython-input-66-82e178cd2b1f>\u001b[0m in \u001b[0;36m<module>\u001b[1;34m\u001b[0m\n\u001b[0;32m      1\u001b[0m \u001b[0mComplex_1\u001b[0m \u001b[1;33m=\u001b[0m \u001b[1;36m1\u001b[0m \u001b[1;33m+\u001b[0m \u001b[1;36m4j\u001b[0m\u001b[1;33m\u001b[0m\u001b[1;33m\u001b[0m\u001b[0m\n\u001b[0;32m      2\u001b[0m \u001b[0mComplex_2\u001b[0m \u001b[1;33m=\u001b[0m \u001b[1;36m3\u001b[0m \u001b[1;33m+\u001b[0m \u001b[1;36m2j\u001b[0m\u001b[1;33m\u001b[0m\u001b[1;33m\u001b[0m\u001b[0m\n\u001b[1;32m----> 3\u001b[1;33m \u001b[0mprint\u001b[0m\u001b[1;33m(\u001b[0m\u001b[1;34m\"Complex_1 // Complex_2 : {}\"\u001b[0m\u001b[1;33m.\u001b[0m\u001b[0mformat\u001b[0m\u001b[1;33m(\u001b[0m\u001b[0mComplex_1\u001b[0m \u001b[1;33m//\u001b[0m \u001b[0mComplex_2\u001b[0m\u001b[1;33m)\u001b[0m\u001b[1;33m)\u001b[0m\u001b[1;33m\u001b[0m\u001b[1;33m\u001b[0m\u001b[0m\n\u001b[0m\u001b[0;32m      4\u001b[0m \u001b[0mprint\u001b[0m\u001b[1;33m(\u001b[0m\u001b[1;34m\"Complex_1 // Complex_2 of type : {}\"\u001b[0m\u001b[1;33m.\u001b[0m\u001b[0mformat\u001b[0m\u001b[1;33m(\u001b[0m\u001b[0mtype\u001b[0m\u001b[1;33m(\u001b[0m\u001b[0mComplex_1\u001b[0m \u001b[1;33m//\u001b[0m \u001b[0mComplex_2\u001b[0m\u001b[1;33m)\u001b[0m\u001b[1;33m)\u001b[0m\u001b[1;33m)\u001b[0m\u001b[1;33m\u001b[0m\u001b[1;33m\u001b[0m\u001b[0m\n",
      "\u001b[1;31mTypeError\u001b[0m: can't take floor of complex number."
     ]
    }
   ],
   "source": [
    "Complex_1 = 1 + 4j\n",
    "Complex_2 = 3 + 2j \n",
    "print(\"Complex_1 // Complex_2 : {}\".format(Complex_1 // Complex_2))\n",
    "print(\"Complex_1 // Complex_2 of type : {}\".format(type(Complex_1 // Complex_2)))"
   ]
  },
  {
   "cell_type": "code",
   "execution_count": 69,
   "metadata": {},
   "outputs": [
    {
     "name": "stdout",
     "output_type": "stream",
     "text": [
      "a % b : 0\n",
      "a % b of type : <class 'int'>\n",
      "c % d : 0.10000000000000009\n",
      "c % d of type : <class 'float'>\n",
      "e % f : 1\n",
      "e % f of type : <class 'int'>\n"
     ]
    }
   ],
   "source": [
    "# 取餘數\n",
    "a  = 9 ; b = 3\n",
    "print(\"a % b : {}\".format(a % b))\n",
    "print(\"a % b of type : {}\".format(type(a % b)))\n",
    "\n",
    "c  = 2.1 ; d = 2\n",
    "print(\"c % d : {}\".format(c % d))\n",
    "print(\"c % d of type : {}\".format(type(c % d)))\n",
    "\n",
    "e  = 1 ; f = 2\n",
    "print(\"e % f : {}\".format(e % f))\n",
    "print(\"e % f of type : {}\".format(type(e % f)))"
   ]
  },
  {
   "cell_type": "code",
   "execution_count": 70,
   "metadata": {},
   "outputs": [
    {
     "ename": "TypeError",
     "evalue": "can't mod complex numbers.",
     "output_type": "error",
     "traceback": [
      "\u001b[1;31m---------------------------------------------------------------------------\u001b[0m",
      "\u001b[1;31mTypeError\u001b[0m                                 Traceback (most recent call last)",
      "\u001b[1;32m<ipython-input-70-88c15b0c9bea>\u001b[0m in \u001b[0;36m<module>\u001b[1;34m\u001b[0m\n\u001b[0;32m      1\u001b[0m \u001b[0mComplex_1\u001b[0m \u001b[1;33m=\u001b[0m \u001b[1;36m1\u001b[0m \u001b[1;33m+\u001b[0m \u001b[1;36m4j\u001b[0m\u001b[1;33m\u001b[0m\u001b[1;33m\u001b[0m\u001b[0m\n\u001b[0;32m      2\u001b[0m \u001b[0mComplex_2\u001b[0m \u001b[1;33m=\u001b[0m \u001b[1;36m3\u001b[0m \u001b[1;33m+\u001b[0m \u001b[1;36m2j\u001b[0m\u001b[1;33m\u001b[0m\u001b[1;33m\u001b[0m\u001b[0m\n\u001b[1;32m----> 3\u001b[1;33m \u001b[0mprint\u001b[0m\u001b[1;33m(\u001b[0m\u001b[1;34m\"Complex_1 % Complex_2 : {}\"\u001b[0m\u001b[1;33m.\u001b[0m\u001b[0mformat\u001b[0m\u001b[1;33m(\u001b[0m\u001b[0mComplex_1\u001b[0m \u001b[1;33m%\u001b[0m \u001b[0mComplex_2\u001b[0m\u001b[1;33m)\u001b[0m\u001b[1;33m)\u001b[0m\u001b[1;33m\u001b[0m\u001b[1;33m\u001b[0m\u001b[0m\n\u001b[0m\u001b[0;32m      4\u001b[0m \u001b[0mprint\u001b[0m\u001b[1;33m(\u001b[0m\u001b[1;34m\"Complex_1 % Complex_2 of type : {}\"\u001b[0m\u001b[1;33m.\u001b[0m\u001b[0mformat\u001b[0m\u001b[1;33m(\u001b[0m\u001b[0mtype\u001b[0m\u001b[1;33m(\u001b[0m\u001b[0mComplex_1\u001b[0m \u001b[1;33m%\u001b[0m \u001b[0mComplex_2\u001b[0m\u001b[1;33m)\u001b[0m\u001b[1;33m)\u001b[0m\u001b[1;33m)\u001b[0m\u001b[1;33m\u001b[0m\u001b[1;33m\u001b[0m\u001b[0m\n",
      "\u001b[1;31mTypeError\u001b[0m: can't mod complex numbers."
     ]
    }
   ],
   "source": [
    "Complex_1 = 1 + 4j\n",
    "Complex_2 = 3 + 2j \n",
    "print(\"Complex_1 % Complex_2 : {}\".format(Complex_1 % Complex_2))\n",
    "print(\"Complex_1 % Complex_2 of type : {}\".format(type(Complex_1 % Complex_2)))"
   ]
  },
  {
   "cell_type": "code",
   "execution_count": 73,
   "metadata": {},
   "outputs": [
    {
     "name": "stdout",
     "output_type": "stream",
     "text": [
      "a 的 b 次方\n",
      "a ** b : 1024\n",
      "a ** b of type : <class 'int'>\n"
     ]
    }
   ],
   "source": [
    "# 乘方\n",
    "a  = 2 ; b = 10\n",
    "print(\"a 的 b 次方\")\n",
    "print(\"a ** b : {}\".format(a ** b))\n",
    "print(\"a ** b of type : {}\".format(type(a ** b)))\n"
   ]
  },
  {
   "cell_type": "code",
   "execution_count": 80,
   "metadata": {},
   "outputs": [
    {
     "name": "stdout",
     "output_type": "stream",
     "text": [
      "a == b : True\n",
      "a == b of type : <class 'bool'>\n",
      "c == d : False\n",
      "c == d of type : <class 'bool'>\n",
      "T == 1 : True\n",
      "F == 0 : True\n",
      "T == 1 of type : <class 'bool'>\n"
     ]
    }
   ],
   "source": [
    "# 相等 == 比較左右兩者是否相等\n",
    "a = 1 ; b = 1\n",
    "print(\"a == b : {}\".format(a == b))\n",
    "print(\"a == b of type : {}\".format(type(a == b)))\n",
    "\n",
    "c = 2 ; d = 3 \n",
    "print(\"c == d : {}\".format(c == d))\n",
    "print(\"c == d of type : {}\".format(type(c == d)))\n",
    "\n",
    "T = True ; F= False ;\n",
    "print(\"T == 1 : {}\".format(T == 1))\n",
    "print(\"F == 0 : {}\".format(F == 0))\n",
    "print(\"T == 1 of type : {}\".format(type(T == 1)))\n"
   ]
  },
  {
   "cell_type": "code",
   "execution_count": 83,
   "metadata": {},
   "outputs": [
    {
     "name": "stdout",
     "output_type": "stream",
     "text": [
      "T != 1 : False\n",
      "T != F : True\n"
     ]
    }
   ],
   "source": [
    "# 不相等 != 比較左右兩者是否相等\n",
    "print(\"T != 1 : {}\".format(T != 1))\n",
    "print(\"T != F : {}\".format(T != F))"
   ]
  },
  {
   "cell_type": "code",
   "execution_count": 86,
   "metadata": {
    "scrolled": false
   },
   "outputs": [
    {
     "name": "stdout",
     "output_type": "stream",
     "text": [
      "a > b : False\n",
      "d > a : True\n",
      "a >= b : True\n",
      "a <= d : True\n"
     ]
    }
   ],
   "source": [
    "# 大於  > \n",
    "# 小於  < \n",
    "# 大於等於  >= \n",
    "# 小於等於  <= \n",
    "\n",
    "a = 1 ; b = 1 ; c = 2 ; d = 3\n",
    "\n",
    "print(\"a > b : {}\".format(a > b))\n",
    "print(\"d > a : {}\".format(d > a))\n",
    "print(\"a >= b : {}\".format(a >= b))\n",
    "print(\"a <= d : {}\".format(a <= d))"
   ]
  },
  {
   "cell_type": "code",
   "execution_count": 103,
   "metadata": {},
   "outputs": [
    {
     "name": "stdout",
     "output_type": "stream",
     "text": [
      "b += a : 3\n",
      "d -= c : 2\n",
      "f *= e : 15\n",
      "h /= g : 1.6666666666666667\n",
      "j %= i : 2\n",
      "h **= g : 125\n",
      "h //= g : 1\n"
     ]
    }
   ],
   "source": [
    "# 加法赋值運算符 +=\n",
    "a = 1\n",
    "b = 2\n",
    "b += a # b = b + a\n",
    "print(\"b += a : {}\".format(b))\n",
    "\n",
    "# 減法赋值運算符 +=\n",
    "c = 3\n",
    "d = 5\n",
    "d -= c  # d = d - c\n",
    "print(\"d -= c : {}\".format(d))\n",
    "\n",
    "# 乘法赋值運算符 *=\n",
    "e = 3\n",
    "f = 5\n",
    "f *= e  # f = f * e\n",
    "print(\"f *= e : {}\".format(f))\n",
    "\n",
    "# 除法赋值運算符 /=\n",
    "g = 3\n",
    "h = 5\n",
    "h /= g  # h = h / g\n",
    "print(\"h /= g : {}\".format(h))\n",
    "\n",
    "# 取模赋值運算符 %=\n",
    "i = 3\n",
    "j = 5\n",
    "j %= i  # j = j % i\n",
    "print(\"j %= i : {}\".format(j))\n",
    "\n",
    "\n",
    "# 幂赋值運算符 **=\n",
    "\n",
    "g = 3\n",
    "h = 5\n",
    "h **= g  # h = h ** g\n",
    "print(\"h **= g : {}\".format(h))\n",
    "\n",
    "# 取整除赋值運算符 //=\n",
    "\n",
    "g = 3\n",
    "h = 5\n",
    "h //= g  # h = h // g\n",
    "print(\"h //= g : {}\".format(h))"
   ]
  },
  {
   "cell_type": "code",
   "execution_count": 2,
   "metadata": {},
   "outputs": [
    {
     "name": "stdout",
     "output_type": "stream",
     "text": [
      "b > a & b < c  and a : 1 ,b : 2 , c :3\n"
     ]
    }
   ],
   "source": [
    "# if ... else 判斷式 配合 (&)and , (|)or ,not, is ,in ....等運算符號\n",
    "# if .... elif ... else\n",
    "\n",
    "a = 1 ; b = 2 ; c = 3\n",
    "if  b <= a  :\n",
    "    print(\" b < a  and a : {} ,b : {} , c :{}\" .format(a,b,c))\n",
    "elif b > a & b <= c :\n",
    "     print(\"b > a & b < c  and a : {} ,b : {} , c :{}\" .format(a,b,c))\n",
    "else :\n",
    "    print(\"b > c and a : {} , b : {} , c :{}\" .format(a,b,c))"
   ]
  },
  {
   "cell_type": "markdown",
   "metadata": {},
   "source": [
    "# 字符串位置"
   ]
  },
  {
   "cell_type": "code",
   "execution_count": 11,
   "metadata": {},
   "outputs": [
    {
     "name": "stdout",
     "output_type": "stream",
     "text": [
      "a 第 0 項 : H \n",
      "a 第 0 到 5 項 : Hello \n",
      "a 第 0 到 5 項 : Hello \n",
      "a 第 0 到 10 項 : Hello W \n",
      "a 第 -1 項 : ! \n",
      "a 第 -1 到 -2 項 :  \n",
      "a 長度 : 12\n"
     ]
    }
   ],
   "source": [
    "a = \"Hello World!\"\n",
    "print(\"a 第 0 項 : {} \" .format(a[0]))\n",
    "print(\"a 第 0 到 5 項 : {} \".format(a[0 : 5 ]))\n",
    "print(\"a 第 0 到 5 項 : {} \".format(a[: 5 ]))\n",
    "print(\"a 第 0 到 10 項 : {} \".format(a[0 : 7]))\n",
    "print(\"a 第 -1 項 : {} \".format(a[-1]))\n",
    "print(\"a 第 -1 到 -2 項 : {} \".format(a[ -1 : -3]))\n",
    "print(\"a 長度 : {}\" .format(len(a)))"
   ]
  },
  {
   "cell_type": "markdown",
   "metadata": {},
   "source": [
    "<font color=blue size=6 face=\"STCAIYUN\">\n",
    "List（列表） 是 Python 中使用最頻繁的數據類型。\n",
    "</font>"
   ]
  },
  {
   "cell_type": "markdown",
   "metadata": {},
   "source": [
    "<font color=black size=3 face=\"STCAIYUN\">\n",
    "    \n",
    "列表可以完成大多數集合類的數據結構實現，列表中元素的類型可以不相同，可包含數字，字符串甚至可以包含列表（所谓嵌套）。\n",
    "\n",
    "列表是用方括号 [] 之間而用逗號區分開來每個元素。\n",
    "\n",
    "和字符串一样，列表同样可以被索引和截取，列表被截取后返回一个包含所需元素的新列表。\n",
    "</font>"
   ]
  },
  {
   "cell_type": "code",
   "execution_count": 1,
   "metadata": {},
   "outputs": [
    {
     "name": "stdout",
     "output_type": "stream",
     "text": [
      "List_Of_Number : [1, 2, 3, 4, 5] \n",
      "List_Of_String : ['a', 'b', 'c', 'd'] \n",
      "List_Of_Mix : [1, 2, 'C', 'H', 'I', 'U', '斯斯'] \n",
      "List_Of_Number of type : <class 'list'>\n",
      "List_Of_String of type : <class 'list'>\n",
      "List_Of_Mix of type : <class 'list'>\n"
     ]
    }
   ],
   "source": [
    "List_Of_Number = [1, 2, 3, 4, 5 ]\n",
    "List_Of_String = [\"a\", \"b\", \"c\", \"d\"]\n",
    "List_Of_Mix = [1,2,\"C\",\"H\",\"I\",\"U\",\"斯斯\"]\n",
    "List_Of_Mix_2 = [1,2,[3,4],\"C\",\"H\",\"I\",\"U\",\"斯斯\"]\n",
    "\n",
    "print(\"List_Of_Number : {} \" .format(List_Of_Number))\n",
    "print(\"List_Of_String : {} \" .format(List_Of_String))\n",
    "print(\"List_Of_Mix : {} \" .format(List_Of_Mix))\n",
    "print(\"List_Of_Mix_2 : {} \" .format(List_Of_Mix_2))\n",
    "\n",
    "print(\"List_Of_Number of type : {}\".format(type(List_Of_Number)))\n",
    "print(\"List_Of_String of type : {}\".format(type(List_Of_String)))\n",
    "print(\"List_Of_Mix of type : {}\".format(type(List_Of_Mix)))\n",
    "print(\"List_Of_Mix_2 of type : {}\".format(type(List_Of_Mix_2)))\n"
   ]
  },
  {
   "cell_type": "markdown",
   "metadata": {},
   "source": [
    "<font color=blue size=3 face=\"STCAIYUN\">\n",
    "列表元素位置\n",
    "</font>"
   ]
  },
  {
   "cell_type": "code",
   "execution_count": 12,
   "metadata": {},
   "outputs": [
    {
     "name": "stdout",
     "output_type": "stream",
     "text": [
      "List_Of_Number 第 0 項 : 1 \n",
      "List_Of_String 第 1 項 : b \n",
      "List_Of_Mix 第 2 項 : C \n",
      "List_Of_Mix 第 -1 項 : 斯斯 \n",
      "List_Of_Mix 第 0 到 第 2 項 : [1, 2] \n"
     ]
    }
   ],
   "source": [
    "print(\"List_Of_Number 第 0 項 : {} \" .format(List_Of_Number[0]))\n",
    "print(\"List_Of_String 第 1 項 : {} \" .format(List_Of_String[1]))\n",
    "print(\"List_Of_Mix 第 2 項 : {} \" .format(List_Of_Mix[2]))\n",
    "print(\"List_Of_Mix 第 -1 項 : {} \" .format(List_Of_Mix[-1]))\n",
    "print(\"List_Of_Mix 第 0 到 第 2 項 : {} \" .format(List_Of_Mix[0:2]))\n",
    "print(\"List_Of_Mix_2 第 0 到 第 2 項 : {} \" .format(List_Of_Mix_2[0:3]))"
   ]
  },
  {
   "cell_type": "code",
   "execution_count": 18,
   "metadata": {},
   "outputs": [
    {
     "name": "stdout",
     "output_type": "stream",
     "text": [
      "List_Of_Number : [10, 2, 3, 4, 5] \n"
     ]
    }
   ],
   "source": [
    "List_Of_Number[0] = 10\n",
    "print(\"List_Of_Number : {} \" .format(List_Of_Number))"
   ]
  },
  {
   "cell_type": "markdown",
   "metadata": {},
   "source": [
    "<font color=blue size=3 face=\"STCAIYUN\">\n",
    "元组是另一個數據類型，類似於 List（列表）。\n",
    "\n",
    "元组用 () 。内部元素用逗號隔開。但是元组不能二次賦值，相當於只能讀取。\n",
    "</font>\n"
   ]
  },
  {
   "cell_type": "code",
   "execution_count": 16,
   "metadata": {},
   "outputs": [
    {
     "name": "stdout",
     "output_type": "stream",
     "text": [
      "tuple : ('runoob', 786, 2.23, 'john', 70.2) \n",
      "tinytuple : (123, 'john') \n",
      "tuple of type : <class 'tuple'>\n",
      "tinytuple of type : <class 'tuple'>\n"
     ]
    }
   ],
   "source": [
    "tuple = ( 'runoob', 786 , 2.23, 'john', 70.2 )\n",
    "tinytuple = (123, 'john')\n",
    "\n",
    "print(\"tuple : {} \" .format(tuple))\n",
    "print(\"tinytuple : {} \" .format(tinytuple))\n",
    "\n",
    "print(\"tuple of type : {}\".format(type(tuple)))\n",
    "print(\"tinytuple of type : {}\".format(type(tinytuple)))"
   ]
  },
  {
   "cell_type": "markdown",
   "metadata": {},
   "source": [
    "<font color=blue size=3 face=\"STCAIYUN\">\n",
    "元組元素位置\n",
    "</font>"
   ]
  },
  {
   "cell_type": "code",
   "execution_count": 20,
   "metadata": {},
   "outputs": [
    {
     "name": "stdout",
     "output_type": "stream",
     "text": [
      "tuple 第 0 項 : runoob \n",
      "tinytuple 第 1 項 : john \n"
     ]
    }
   ],
   "source": [
    "print(\"tuple 第 0 項 : {} \" .format(tuple[0]))\n",
    "print(\"tinytuple 第 1 項 : {} \" .format(tinytuple[1]))\n",
    "\n",
    "print(\"tuple of type : {}\".format(type(tuple)))\n",
    "print(\"tinytuple of type : {}\".format(type(tinytuple)))"
   ]
  },
  {
   "cell_type": "code",
   "execution_count": 21,
   "metadata": {},
   "outputs": [
    {
     "ename": "TypeError",
     "evalue": "'tuple' object does not support item assignment",
     "output_type": "error",
     "traceback": [
      "\u001b[1;31m---------------------------------------------------------------------------\u001b[0m",
      "\u001b[1;31mTypeError\u001b[0m                                 Traceback (most recent call last)",
      "\u001b[1;32m<ipython-input-21-2e861b9fbe18>\u001b[0m in \u001b[0;36m<module>\u001b[1;34m\u001b[0m\n\u001b[1;32m----> 1\u001b[1;33m \u001b[0mtuple\u001b[0m\u001b[1;33m[\u001b[0m\u001b[1;36m0\u001b[0m\u001b[1;33m]\u001b[0m \u001b[1;33m=\u001b[0m \u001b[1;36m1\u001b[0m\u001b[1;33m\u001b[0m\u001b[1;33m\u001b[0m\u001b[0m\n\u001b[0m",
      "\u001b[1;31mTypeError\u001b[0m: 'tuple' object does not support item assignment"
     ]
    }
   ],
   "source": [
    "tuple[0] = 1"
   ]
  },
  {
   "cell_type": "markdown",
   "metadata": {},
   "source": [
    "<font color=blue size=3 face=\"STCAIYUN\">\n",
    "字典(dictionary)是除列表以外python之中最靈活的内置數據結構類型。列表是有序的對象集合，字典是无序的對象集合。\n",
    "\n",
    "字典用{ }。字典由索引(key)和它對應的值value组成。\n",
    "</font>"
   ]
  },
  {
   "cell_type": "code",
   "execution_count": 22,
   "metadata": {},
   "outputs": [],
   "source": [
    "dict = {}\n",
    "dict['one'] = \"This is one\"\n",
    "dict[2] = \"This is two\"\n",
    " \n",
    "tinydict = {'name': 'runoob','code':6734, 'dept': 'sales'}"
   ]
  },
  {
   "cell_type": "code",
   "execution_count": 27,
   "metadata": {},
   "outputs": [
    {
     "name": "stdout",
     "output_type": "stream",
     "text": [
      "dict : {'one': 'This is one', 2: 'This is two'}\n",
      "tinydict : {'name': 'runoob', 'code': 6734, 'dept': 'sales'}\n",
      "dict of type : <class 'dict'>\n"
     ]
    }
   ],
   "source": [
    "print(\"dict : {}\".format(dict))\n",
    "print(\"tinydict : {}\".format(tinydict))\n",
    "\n",
    "print(\"dict of type : {}\".format(type(dict)))"
   ]
  },
  {
   "cell_type": "code",
   "execution_count": 28,
   "metadata": {},
   "outputs": [
    {
     "name": "stdout",
     "output_type": "stream",
     "text": [
      "dict : {'one': 'fixed', 2: 'This is two'}\n"
     ]
    }
   ],
   "source": [
    "dict['one'] = \"fixed\"\n",
    "print(\"dict : {}\".format(dict))"
   ]
  },
  {
   "cell_type": "code",
   "execution_count": 31,
   "metadata": {},
   "outputs": [
    {
     "name": "stdout",
     "output_type": "stream",
     "text": [
      "dict of keys : dict_keys(['one', 2])\n",
      "dict of values : dict_values(['fixed', 'This is two'])\n"
     ]
    }
   ],
   "source": [
    "print(\"dict of keys : {}\".format(dict.keys()))\n",
    "print(\"dict of values : {}\".format(dict.values()))"
   ]
  },
  {
   "cell_type": "markdown",
   "metadata": {},
   "source": [
    "<font color=blue size=3 face=\"STCAIYUN\">\n",
    "數據轉換\n",
    "</font>"
   ]
  },
  {
   "cell_type": "code",
   "execution_count": 36,
   "metadata": {},
   "outputs": [
    {
     "name": "stdout",
     "output_type": "stream",
     "text": [
      "a 轉換成整數 : 1\n",
      "b 轉換成整數 : 1\n"
     ]
    }
   ],
   "source": [
    "# 轉換整數\n",
    "a = 1.2\n",
    "b = \"1\"\n",
    "print(\"a 轉換成整數 : {}\".format(int(a)))\n",
    "print(\"b 轉換成整數 : {}\".format(int(b)))"
   ]
  },
  {
   "cell_type": "code",
   "execution_count": 38,
   "metadata": {},
   "outputs": [
    {
     "name": "stdout",
     "output_type": "stream",
     "text": [
      "a 轉換成浮點數 : 1.2\n",
      "b 轉換成浮點數 : 1.0\n"
     ]
    }
   ],
   "source": [
    "# 轉換浮點數\n",
    "a = 1.2\n",
    "b = \"1\"\n",
    "print(\"a 轉換成浮點數 : {}\".format(float(a)))\n",
    "print(\"b 轉換成浮點數 : {}\".format(float(b)))"
   ]
  },
  {
   "cell_type": "code",
   "execution_count": 45,
   "metadata": {},
   "outputs": [
    {
     "name": "stdout",
     "output_type": "stream",
     "text": [
      "a / b 轉換成字符串 : 0.42333333333333334\n",
      "a / b 轉換成字符串 : 0.42333333333333334\n",
      "a / b of type : <class 'str'>\n",
      "a / b of type : <class 'str'>\n"
     ]
    }
   ],
   "source": [
    "# 轉換字符串\n",
    "a = 1.27\n",
    "b = 3\n",
    "print(\"a / b 轉換成字符串 : {}\".format(str(a/b)))\n",
    "print(\"a / b 轉換成字符串 : {}\".format(repr(a/b)))\n",
    "print(\"a / b of type : {}\".format(type(str(a/b))))\n",
    "print(\"a / b of type : {}\".format(type(repr(a/b))))"
   ]
  },
  {
   "cell_type": "code",
   "execution_count": 56,
   "metadata": {},
   "outputs": [
    {
     "name": "stdout",
     "output_type": "stream",
     "text": [
      "a 轉換成字符 : ӑ\n"
     ]
    }
   ],
   "source": [
    "# 轉換字符串\n",
    "a = 1233\n",
    "print(\"a 轉換成字符 : {}\".format(chr(a)))"
   ]
  },
  {
   "cell_type": "code",
   "execution_count": 57,
   "metadata": {},
   "outputs": [
    {
     "ename": "TypeError",
     "evalue": "integer argument expected, got float",
     "output_type": "error",
     "traceback": [
      "\u001b[1;31m---------------------------------------------------------------------------\u001b[0m",
      "\u001b[1;31mTypeError\u001b[0m                                 Traceback (most recent call last)",
      "\u001b[1;32m<ipython-input-57-10890422ae74>\u001b[0m in \u001b[0;36m<module>\u001b[1;34m\u001b[0m\n\u001b[0;32m      1\u001b[0m \u001b[0mb\u001b[0m \u001b[1;33m=\u001b[0m \u001b[1;36m1.2\u001b[0m\u001b[1;33m\u001b[0m\u001b[1;33m\u001b[0m\u001b[0m\n\u001b[1;32m----> 2\u001b[1;33m \u001b[0mprint\u001b[0m\u001b[1;33m(\u001b[0m\u001b[1;34m\"a 轉換成字符 : {}\"\u001b[0m\u001b[1;33m.\u001b[0m\u001b[0mformat\u001b[0m\u001b[1;33m(\u001b[0m\u001b[0mchr\u001b[0m\u001b[1;33m(\u001b[0m\u001b[0mb\u001b[0m\u001b[1;33m)\u001b[0m\u001b[1;33m)\u001b[0m\u001b[1;33m)\u001b[0m\u001b[1;33m\u001b[0m\u001b[1;33m\u001b[0m\u001b[0m\n\u001b[0m",
      "\u001b[1;31mTypeError\u001b[0m: integer argument expected, got float"
     ]
    }
   ],
   "source": [
    "b = 1.2\n",
    "print(\"a 轉換成字符 : {}\".format(chr(b)))"
   ]
  },
  {
   "cell_type": "code",
   "execution_count": null,
   "metadata": {},
   "outputs": [],
   "source": []
  }
 ],
 "metadata": {
  "kernelspec": {
   "display_name": "Python 3",
   "language": "python",
   "name": "python3"
  },
  "language_info": {
   "codemirror_mode": {
    "name": "ipython",
    "version": 3
   },
   "file_extension": ".py",
   "mimetype": "text/x-python",
   "name": "python",
   "nbconvert_exporter": "python",
   "pygments_lexer": "ipython3",
   "version": "3.8.3"
  }
 },
 "nbformat": 4,
 "nbformat_minor": 4
}
