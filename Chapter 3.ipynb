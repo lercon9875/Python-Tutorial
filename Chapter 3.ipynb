{
 "cells": [
  {
   "cell_type": "markdown",
   "metadata": {},
   "source": [
    "<font color=black size=10 face=\"STCAIYUN\">Chapter 3</font>"
   ]
  },
  {
   "cell_type": "markdown",
   "metadata": {},
   "source": [
    "<font color=blue size=6 face=\"STCAIYUN\">\n",
    "迴圈\n",
    "</font>"
   ]
  },
  {
   "cell_type": "markdown",
   "metadata": {},
   "source": [
    "<font color=black size=6 face=\"STCAIYUN\">\n",
    "while 判斷條件(condition)：\n",
    "    執行語句(statements)……\n",
    "else :\n",
    "    執行語句(statements)……\n",
    "</font>"
   ]
  },
  {
   "cell_type": "code",
   "execution_count": 8,
   "metadata": {},
   "outputs": [
    {
     "name": "stdout",
     "output_type": "stream",
     "text": [
      "This count is  : 0\n",
      "This count is  : 1\n",
      "This count is  : 2\n",
      "This count is  : 3\n",
      "This count is  : 4\n",
      "This count is  : 5\n",
      "This count is  : 6\n",
      "This count is  : 7\n",
      "This count is  : 8\n",
      "This count is  : 9\n",
      "Finished\n"
     ]
    }
   ],
   "source": [
    "count = 0\n",
    "while (count < 10):\n",
    "    \n",
    "    print(\"This count is  : {}\".format(count))\n",
    "    count = count + 1\n",
    "   \n",
    "print(\"Finished\")"
   ]
  },
  {
   "cell_type": "code",
   "execution_count": 10,
   "metadata": {},
   "outputs": [
    {
     "name": "stdout",
     "output_type": "stream",
     "text": [
      "Enter a number  :Hi\n",
      "You entered: Hi\n",
      "Enter a number  :Hello\n",
      "You entered: Hello\n",
      "Enter a number  :ok\n",
      "You entered: ok\n"
     ]
    },
    {
     "ename": "KeyboardInterrupt",
     "evalue": "Interrupted by user",
     "output_type": "error",
     "traceback": [
      "\u001b[1;31m---------------------------------------------------------------------------\u001b[0m",
      "\u001b[1;31mKeyboardInterrupt\u001b[0m                         Traceback (most recent call last)",
      "\u001b[1;32m<ipython-input-10-e65a6a0b6c45>\u001b[0m in \u001b[0;36m<module>\u001b[1;34m\u001b[0m\n\u001b[0;32m      1\u001b[0m \u001b[1;31m# 無限迴圈\u001b[0m\u001b[1;33m\u001b[0m\u001b[1;33m\u001b[0m\u001b[1;33m\u001b[0m\u001b[0m\n\u001b[0;32m      2\u001b[0m \u001b[1;32mwhile\u001b[0m \u001b[1;32mTrue\u001b[0m \u001b[1;33m:\u001b[0m\u001b[1;33m\u001b[0m\u001b[1;33m\u001b[0m\u001b[0m\n\u001b[1;32m----> 3\u001b[1;33m     \u001b[0menter\u001b[0m \u001b[1;33m=\u001b[0m \u001b[0minput\u001b[0m\u001b[1;33m(\u001b[0m\u001b[1;34m\"Enter a number  :\"\u001b[0m\u001b[1;33m)\u001b[0m\u001b[1;33m\u001b[0m\u001b[1;33m\u001b[0m\u001b[0m\n\u001b[0m\u001b[0;32m      4\u001b[0m     \u001b[0mprint\u001b[0m\u001b[1;33m(\u001b[0m\u001b[1;34m\"You entered: {}\"\u001b[0m\u001b[1;33m.\u001b[0m\u001b[0mformat\u001b[0m\u001b[1;33m(\u001b[0m\u001b[0menter\u001b[0m\u001b[1;33m)\u001b[0m\u001b[1;33m)\u001b[0m\u001b[1;33m\u001b[0m\u001b[1;33m\u001b[0m\u001b[0m\n\u001b[0;32m      5\u001b[0m \u001b[0mprint\u001b[0m\u001b[1;33m(\u001b[0m\u001b[1;34m\"BYE!\"\u001b[0m\u001b[1;33m)\u001b[0m\u001b[1;33m\u001b[0m\u001b[1;33m\u001b[0m\u001b[0m\n",
      "\u001b[1;32m~\\anaconda3\\lib\\site-packages\\ipykernel\\kernelbase.py\u001b[0m in \u001b[0;36mraw_input\u001b[1;34m(self, prompt)\u001b[0m\n\u001b[0;32m    858\u001b[0m                 \u001b[1;34m\"raw_input was called, but this frontend does not support input requests.\"\u001b[0m\u001b[1;33m\u001b[0m\u001b[1;33m\u001b[0m\u001b[0m\n\u001b[0;32m    859\u001b[0m             )\n\u001b[1;32m--> 860\u001b[1;33m         return self._input_request(str(prompt),\n\u001b[0m\u001b[0;32m    861\u001b[0m             \u001b[0mself\u001b[0m\u001b[1;33m.\u001b[0m\u001b[0m_parent_ident\u001b[0m\u001b[1;33m,\u001b[0m\u001b[1;33m\u001b[0m\u001b[1;33m\u001b[0m\u001b[0m\n\u001b[0;32m    862\u001b[0m             \u001b[0mself\u001b[0m\u001b[1;33m.\u001b[0m\u001b[0m_parent_header\u001b[0m\u001b[1;33m,\u001b[0m\u001b[1;33m\u001b[0m\u001b[1;33m\u001b[0m\u001b[0m\n",
      "\u001b[1;32m~\\anaconda3\\lib\\site-packages\\ipykernel\\kernelbase.py\u001b[0m in \u001b[0;36m_input_request\u001b[1;34m(self, prompt, ident, parent, password)\u001b[0m\n\u001b[0;32m    902\u001b[0m             \u001b[1;32mexcept\u001b[0m \u001b[0mKeyboardInterrupt\u001b[0m\u001b[1;33m:\u001b[0m\u001b[1;33m\u001b[0m\u001b[1;33m\u001b[0m\u001b[0m\n\u001b[0;32m    903\u001b[0m                 \u001b[1;31m# re-raise KeyboardInterrupt, to truncate traceback\u001b[0m\u001b[1;33m\u001b[0m\u001b[1;33m\u001b[0m\u001b[1;33m\u001b[0m\u001b[0m\n\u001b[1;32m--> 904\u001b[1;33m                 \u001b[1;32mraise\u001b[0m \u001b[0mKeyboardInterrupt\u001b[0m\u001b[1;33m(\u001b[0m\u001b[1;34m\"Interrupted by user\"\u001b[0m\u001b[1;33m)\u001b[0m \u001b[1;32mfrom\u001b[0m \u001b[1;32mNone\u001b[0m\u001b[1;33m\u001b[0m\u001b[1;33m\u001b[0m\u001b[0m\n\u001b[0m\u001b[0;32m    905\u001b[0m             \u001b[1;32mexcept\u001b[0m \u001b[0mException\u001b[0m \u001b[1;32mas\u001b[0m \u001b[0me\u001b[0m\u001b[1;33m:\u001b[0m\u001b[1;33m\u001b[0m\u001b[1;33m\u001b[0m\u001b[0m\n\u001b[0;32m    906\u001b[0m                 \u001b[0mself\u001b[0m\u001b[1;33m.\u001b[0m\u001b[0mlog\u001b[0m\u001b[1;33m.\u001b[0m\u001b[0mwarning\u001b[0m\u001b[1;33m(\u001b[0m\u001b[1;34m\"Invalid Message:\"\u001b[0m\u001b[1;33m,\u001b[0m \u001b[0mexc_info\u001b[0m\u001b[1;33m=\u001b[0m\u001b[1;32mTrue\u001b[0m\u001b[1;33m)\u001b[0m\u001b[1;33m\u001b[0m\u001b[1;33m\u001b[0m\u001b[0m\n",
      "\u001b[1;31mKeyboardInterrupt\u001b[0m: Interrupted by user"
     ]
    }
   ],
   "source": [
    "# 無限迴圈\n",
    "while True :\n",
    "    enter = input(\"Enter a number  :\")\n",
    "    print(\"You entered: {}\".format(enter))\n",
    "print(\"BYE!\")"
   ]
  },
  {
   "cell_type": "code",
   "execution_count": 12,
   "metadata": {},
   "outputs": [
    {
     "name": "stdout",
     "output_type": "stream",
     "text": [
      " 0 is  less than 5 \n",
      " 1 is  less than 5 \n",
      " 2 is  less than 5 \n",
      " 3 is  less than 5 \n",
      " 4 is  less than 5 \n",
      " 5 is not less than 5 \n"
     ]
    }
   ],
   "source": [
    "count = 0\n",
    "while (count < 5):\n",
    "   print(\" {} is  less than 5 \".format(count)) \n",
    "   count = count + 1\n",
    "else:\n",
    "   print(\" {} is not less than 5 \".format(count)) "
   ]
  },
  {
   "cell_type": "code",
   "execution_count": 14,
   "metadata": {},
   "outputs": [
    {
     "name": "stdout",
     "output_type": "stream",
     "text": [
      "10\n",
      "20\n",
      "30\n",
      "40\n",
      "50\n",
      "60\n",
      "80\n"
     ]
    }
   ],
   "source": [
    "total = 10 \n",
    "while (total < 100): \n",
    "    print(total) \n",
    "    if(total <= 50):\n",
    "        total += 10 \n",
    "    else:\n",
    "        total += 20"
   ]
  },
  {
   "cell_type": "markdown",
   "metadata": {},
   "source": [
    "<font color=black size=6 face=\"STCAIYUN\">\n",
    "for value in values: statements(s)\n",
    "</font>  "
   ]
  },
  {
   "cell_type": "code",
   "execution_count": 28,
   "metadata": {},
   "outputs": [
    {
     "name": "stdout",
     "output_type": "stream",
     "text": [
      "M\n",
      "i\n",
      "k\n",
      "e\n"
     ]
    }
   ],
   "source": [
    "name = \"Mike\"\n",
    "for string in name :\n",
    "    print(string)"
   ]
  },
  {
   "cell_type": "code",
   "execution_count": 29,
   "metadata": {},
   "outputs": [
    {
     "name": "stdout",
     "output_type": "stream",
     "text": [
      "第 0 個 字母為 M \n",
      "第 1 個 字母為 i \n",
      "第 2 個 字母為 k \n",
      "第 3 個 字母為 e \n"
     ]
    }
   ],
   "source": [
    "name = \"Mike\"\n",
    "index = 0\n",
    "for string in name :\n",
    "    print(\"第 {} 個 字母為 {} \".format(index,string))\n",
    "    index = index + 1 "
   ]
  },
  {
   "cell_type": "code",
   "execution_count": 21,
   "metadata": {},
   "outputs": [
    {
     "name": "stdout",
     "output_type": "stream",
     "text": [
      "值 : 0\n",
      "值 : 1\n",
      "值 : 2\n",
      "值 : 3\n",
      "值 : A\n",
      "值 : B\n",
      "值 : C\n"
     ]
    }
   ],
   "source": [
    "list = [0 , 1 , 2, 3 , \"A\" , \"B\" , \"C\"]\n",
    "for value in list:\n",
    "    print(\"值 : {}\".format(value))\n",
    " "
   ]
  },
  {
   "cell_type": "code",
   "execution_count": 17,
   "metadata": {},
   "outputs": [
    {
     "name": "stdout",
     "output_type": "stream",
     "text": [
      "第 0 項 的 值 為 0\n",
      "第 1 項 的 值 為 1\n",
      "第 2 項 的 值 為 2\n",
      "第 3 項 的 值 為 3\n",
      "第 4 項 的 值 為 A\n",
      "第 5 項 的 值 為 B\n",
      "第 6 項 的 值 為 C\n"
     ]
    }
   ],
   "source": [
    "list = [0 , 1 , 2, 3 , \"A\" , \"B\" , \"C\"]\n",
    "index = 0\n",
    "for value in list:\n",
    "    print(\"第 {} 項 的 值 為 {}\".format(index, value))\n",
    "    index += 1\n",
    " "
   ]
  },
  {
   "cell_type": "markdown",
   "metadata": {},
   "source": [
    "<font color=black size=6 face=\"STCAIYUN\">\n",
    "for iterator in range(number , number , step): statements(s)\n",
    "</font>  "
   ]
  },
  {
   "cell_type": "code",
   "execution_count": 22,
   "metadata": {},
   "outputs": [
    {
     "name": "stdout",
     "output_type": "stream",
     "text": [
      "值 : 0\n",
      "值 : 1\n",
      "值 : 2\n",
      "值 : 3\n",
      "值 : 4\n",
      "值 : 5\n",
      "值 : 6\n",
      "值 : 7\n",
      "值 : 8\n",
      "值 : 9\n"
     ]
    }
   ],
   "source": [
    "for value in range(0,10):\n",
    "    print(\"值 : {}\".format(value))"
   ]
  },
  {
   "cell_type": "code",
   "execution_count": 24,
   "metadata": {},
   "outputs": [
    {
     "name": "stdout",
     "output_type": "stream",
     "text": [
      "第 0 的值 : 0\n",
      "第 1 的值 : 1\n",
      "第 2 的值 : 2\n",
      "第 3 的值 : 3\n",
      "第 4 的值 : 4\n",
      "第 5 的值 : 5\n",
      "第 6 的值 : 6\n",
      "第 7 的值 : 7\n",
      "第 8 的值 : 8\n",
      "第 9 的值 : 9\n"
     ]
    }
   ],
   "source": [
    "index = 0\n",
    "for value in range(0,10):\n",
    "    print(\"第 {} 的值 : {}\".format(index,value))\n",
    "    index +=1"
   ]
  },
  {
   "cell_type": "code",
   "execution_count": 23,
   "metadata": {},
   "outputs": [
    {
     "name": "stdout",
     "output_type": "stream",
     "text": [
      "值 : 0\n",
      "值 : 2\n",
      "值 : 4\n",
      "值 : 6\n",
      "值 : 8\n"
     ]
    }
   ],
   "source": [
    "for value in range(0,10,2):\n",
    "    print(\"值 : {}\".format(value))"
   ]
  },
  {
   "cell_type": "code",
   "execution_count": 25,
   "metadata": {},
   "outputs": [
    {
     "name": "stdout",
     "output_type": "stream",
     "text": [
      "第 0 的值 : 0\n",
      "第 1 的值 : 2\n",
      "第 2 的值 : 4\n",
      "第 3 的值 : 6\n",
      "第 4 的值 : 8\n"
     ]
    }
   ],
   "source": [
    "index = 0\n",
    "for value in range(0,10,2):\n",
    "    print(\"第 {} 的值 : {}\".format(index,value))\n",
    "    index +=1"
   ]
  },
  {
   "cell_type": "markdown",
   "metadata": {},
   "source": [
    "<font color=black size=6 face=\"STCAIYUN\">\n",
    "for count, value in enumerate(values, start=1): statements(s)\n",
    "</font>  "
   ]
  },
  {
   "cell_type": "code",
   "execution_count": 27,
   "metadata": {},
   "outputs": [
    {
     "name": "stdout",
     "output_type": "stream",
     "text": [
      "第 0 的值 : 1\n",
      "第 1 的值 : 2\n",
      "第 2 的值 : 3\n",
      "第 3 的值 : 4\n",
      "第 4 的值 : 5\n",
      "第 5 的值 : Spring\n",
      "第 6 的值 : Summer\n",
      "第 7 的值 : Fall\n",
      "第 8 的值 : Winter\n",
      "list 的長度 : 9\n"
     ]
    }
   ],
   "source": [
    "list = [1 , 2 , 3 , 4 , 5 ,'Spring', 'Summer', 'Fall', 'Winter']\n",
    "for index, value in enumerate(list):\n",
    "    print(\"第 {} 的值 : {}\".format(index,value))\n",
    "print(\"list 的長度 : {}\".format(len(list)))"
   ]
  },
  {
   "cell_type": "markdown",
   "metadata": {},
   "source": [
    "<font color=black size=6 face=\"STCAIYUN\">\n",
    "Continue 、 Break 、 Pass\n",
    "</font>      "
   ]
  },
  {
   "cell_type": "code",
   "execution_count": 5,
   "metadata": {},
   "outputs": [
    {
     "name": "stdout",
     "output_type": "stream",
     "text": [
      "第 0 個 字 : G\n",
      "第 1 個 字 : i\n",
      "第 2 個 字 : a\n",
      "第 3 個 字 : n\n",
      "第 4 個 字 : n\n",
      "第 5 個 字 : i\n",
      "第 6 個 字 : s\n",
      "第 7 個 字 :  \n",
      "第 8 個 字 : A\n",
      "第 9 個 字 : n\n",
      "第 10 個 字 : t\n",
      "第 11 個 字 : e\n",
      "第 12 個 字 : t\n",
      "第 13 個 字 : o\n",
      "第 14 個 字 : k\n",
      "第 15 個 字 : o\n",
      "第 16 個 字 : u\n",
      "第 17 個 字 : n\n",
      "第 18 個 字 : m\n",
      "第 19 個 字 : p\n",
      "第 20 個 字 : o\n",
      "Finished\n"
     ]
    }
   ],
   "source": [
    "count = 0 \n",
    "name = \"Giannis Antetokounmpo\"\n",
    "for string in name:    \n",
    "    print(\"第 {} 個 字 : {}\".format(count,string))\n",
    "    count +=1\n",
    "print(\"Finished\")"
   ]
  },
  {
   "cell_type": "code",
   "execution_count": 50,
   "metadata": {},
   "outputs": [
    {
     "name": "stdout",
     "output_type": "stream",
     "text": [
      "第 0 個 字 : G\n",
      "第 1 個 字 : i\n",
      "第 2 個 字 : a\n",
      "第 3 個 字 : n\n",
      "第 4 個 字 : n\n",
      "第 5 個 字 : i\n",
      "第 6 個 字 : s\n",
      "第 7 個 字 :  \n",
      "第 8 個 字 是 A \n",
      "第 8 個 字 : n\n",
      "第 9 個 字 : t\n",
      "第 10 個 字 : e\n",
      "第 11 個 字 : t\n",
      "第 12 個 字 : o\n",
      "第 13 個 字 : k\n",
      "第 14 個 字 : o\n",
      "第 15 個 字 : u\n",
      "第 16 個 字 : n\n",
      "第 17 個 字 : m\n",
      "第 18 個 字 : p\n",
      "第 19 個 字 : o\n",
      "Finished\n"
     ]
    }
   ],
   "source": [
    "count = 0 \n",
    "name = \"Giannis Antetokounmpo\"\n",
    "for string in name:    \n",
    "    if(string == \"A\"):\n",
    "        print(\"第 {} 個 字 是 A \".format(count))\n",
    "        continue\n",
    "    print(\"第 {} 個 字 : {}\".format(count,string))\n",
    "    count +=1\n",
    "print(\"Finished\")"
   ]
  },
  {
   "cell_type": "code",
   "execution_count": 49,
   "metadata": {},
   "outputs": [
    {
     "name": "stdout",
     "output_type": "stream",
     "text": [
      "第 0 個 字 : G\n",
      "第 1 個 字 : i\n",
      "第 2 個 字 : a\n",
      "第 3 個 字 : n\n",
      "第 4 個 字 : n\n",
      "第 5 個 字 : i\n",
      "第 6 個 字 : s\n",
      "第 7 個 字 :  \n",
      "第 8 個 字 : n\n",
      "第 9 個 字 : t\n",
      "第 10 個 字 : e\n",
      "第 11 個 字 : t\n",
      "第 12 個 字 : o\n",
      "第 13 個 字 : k\n",
      "第 14 個 字 : o\n",
      "第 15 個 字 : u\n",
      "第 16 個 字 : n\n",
      "第 17 個 字 : m\n",
      "第 18 個 字 : p\n",
      "第 19 個 字 : o\n",
      "Finished\n"
     ]
    }
   ],
   "source": [
    "count = 0 \n",
    "name = \"Giannis Antetokounmpo\"\n",
    "for string in name:    \n",
    "    if(string == \"A\"):\n",
    "                continue\n",
    "    print(\"第 {} 個 字 : {}\".format(count,string))\n",
    "    count +=1\n",
    "print(\"Finished\")"
   ]
  },
  {
   "cell_type": "code",
   "execution_count": 51,
   "metadata": {},
   "outputs": [
    {
     "name": "stdout",
     "output_type": "stream",
     "text": [
      "第 0 個 字 : G\n",
      "第 1 個 字 : i\n",
      "第 2 個 字 : a\n",
      "第 3 個 字 : n\n",
      "第 4 個 字 : n\n",
      "第 5 個 字 : i\n",
      "第 6 個 字 : s\n",
      "第 7 個 字 :  \n",
      "Finished\n"
     ]
    }
   ],
   "source": [
    "count = 0 \n",
    "name = \"Giannis Antetokounmpo\"\n",
    "for string in name:    \n",
    "    if(string == \"A\"):\n",
    "        break\n",
    "        print(\"第 {} 個 字 是 A \".format(count))\n",
    "    print(\"第 {} 個 字 : {}\".format(count,string))\n",
    "    count +=1\n",
    "print(\"Finished\")"
   ]
  },
  {
   "cell_type": "code",
   "execution_count": 55,
   "metadata": {},
   "outputs": [
    {
     "name": "stdout",
     "output_type": "stream",
     "text": [
      "第 0 個 字 : G\n",
      "第 1 個 字 : i\n",
      "第 2 個 字 : a\n",
      "第 3 個 字 : n\n",
      "第 4 個 字 : n\n",
      "第 5 個 字 : i\n",
      "第 6 個 字 : s\n",
      "第 7 個 字 :  \n",
      "第 8 個 字 : A\n",
      "第 9 個 字 : n\n",
      "第 10 個 字 : t\n",
      "第 11 個 字 : e\n",
      "第 12 個 字 : t\n",
      "第 13 個 字 : o\n",
      "第 14 個 字 : k\n",
      "第 15 個 字 : o\n",
      "第 16 個 字 : u\n",
      "第 17 個 字 : n\n",
      "第 18 個 字 : m\n",
      "第 19 個 字 : p\n",
      "第 20 個 字 : o\n",
      "Finished\n"
     ]
    }
   ],
   "source": [
    "count = 0 \n",
    "name = \"Giannis Antetokounmpo\"\n",
    "for string in name:    \n",
    "    if(string == \"A\"):\n",
    "        #print(\"第 {} 個 字 是 A \".format(count))\n",
    "        pass\n",
    "                \n",
    "    print(\"第 {} 個 字 : {}\".format(count,string))\n",
    "    count +=1\n",
    "print(\"Finished\")"
   ]
  },
  {
   "cell_type": "markdown",
   "metadata": {},
   "source": [
    "Example :\n",
    "\n",
    "實際測試無限迴圈，輸入錯誤五位數字\n",
    "\n",
    "顯示提示是否為五位數字，按Y繼續嘗試，最後輸入「N」結束程式。\n",
    "\n",
    "如果輸入不是數字則顯示錯誤\n",
    "\n",
    "錯誤時，錯誤的次數\n",
    "\n"
   ]
  },
  {
   "cell_type": "code",
   "execution_count": 45,
   "metadata": {},
   "outputs": [
    {
     "name": "stdout",
     "output_type": "stream",
     "text": [
      "\n",
      " 請輸入五位數字: 1000\n",
      "輸入為數字\n",
      "\n",
      " 剛剛輸入不是五位數\n",
      "\n",
      " 是否要再次輸入? Y/N \n",
      "y\n",
      "錯誤 1 次 \n",
      "\n",
      "\n",
      " 請輸入五位數字: 100\n",
      "輸入為數字\n",
      "\n",
      " 剛剛輸入不是五位數\n",
      "\n",
      " 是否要再次輸入? Y/N \n",
      "y\n",
      "錯誤 2 次 \n",
      "\n",
      "\n",
      " 請輸入五位數字: y0\n",
      "\n",
      " 請輸入五位數字: y\n",
      "\n",
      " 請輸入五位數字: y\n",
      "\n",
      " 請輸入五位數字: 100\n",
      "輸入為數字\n",
      "\n",
      " 剛剛輸入不是五位數\n",
      "\n",
      " 是否要再次輸入? Y/N \n",
      "yy\n",
      "進入pass\n",
      "錯誤 3 次 \n",
      "\n"
     ]
    },
    {
     "ename": "KeyboardInterrupt",
     "evalue": "Interrupted by user",
     "output_type": "error",
     "traceback": [
      "\u001b[1;31m---------------------------------------------------------------------------\u001b[0m",
      "\u001b[1;31mKeyboardInterrupt\u001b[0m                         Traceback (most recent call last)",
      "\u001b[1;32m<ipython-input-45-f4ceed30c6ee>\u001b[0m in \u001b[0;36m<module>\u001b[1;34m\u001b[0m\n\u001b[0;32m      2\u001b[0m \u001b[0merror\u001b[0m \u001b[1;33m=\u001b[0m \u001b[1;36m1\u001b[0m\u001b[1;33m\u001b[0m\u001b[1;33m\u001b[0m\u001b[0m\n\u001b[0;32m      3\u001b[0m \u001b[1;32mwhile\u001b[0m \u001b[1;32mTrue\u001b[0m\u001b[1;33m:\u001b[0m\u001b[1;33m\u001b[0m\u001b[1;33m\u001b[0m\u001b[0m\n\u001b[1;32m----> 4\u001b[1;33m     \u001b[0mx\u001b[0m \u001b[1;33m=\u001b[0m \u001b[1;33m(\u001b[0m\u001b[0minput\u001b[0m\u001b[1;33m(\u001b[0m\u001b[1;34m\"\\n 請輸入五位數字: \"\u001b[0m\u001b[1;33m)\u001b[0m\u001b[1;33m)\u001b[0m\u001b[1;33m\u001b[0m\u001b[1;33m\u001b[0m\u001b[0m\n\u001b[0m\u001b[0;32m      5\u001b[0m     \u001b[1;32mif\u001b[0m \u001b[0mstr\u001b[0m\u001b[1;33m(\u001b[0m\u001b[0mx\u001b[0m\u001b[1;33m)\u001b[0m\u001b[1;33m.\u001b[0m\u001b[0misnumeric\u001b[0m\u001b[1;33m(\u001b[0m\u001b[1;33m)\u001b[0m \u001b[1;33m==\u001b[0m \u001b[1;32mTrue\u001b[0m\u001b[1;33m:\u001b[0m\u001b[1;33m\u001b[0m\u001b[1;33m\u001b[0m\u001b[0m\n\u001b[0;32m      6\u001b[0m         \u001b[0mprint\u001b[0m\u001b[1;33m(\u001b[0m\u001b[1;34m\"輸入為數字\"\u001b[0m\u001b[1;33m)\u001b[0m\u001b[1;33m\u001b[0m\u001b[1;33m\u001b[0m\u001b[0m\n",
      "\u001b[1;32m~\\anaconda3\\lib\\site-packages\\ipykernel\\kernelbase.py\u001b[0m in \u001b[0;36mraw_input\u001b[1;34m(self, prompt)\u001b[0m\n\u001b[0;32m    858\u001b[0m                 \u001b[1;34m\"raw_input was called, but this frontend does not support input requests.\"\u001b[0m\u001b[1;33m\u001b[0m\u001b[1;33m\u001b[0m\u001b[0m\n\u001b[0;32m    859\u001b[0m             )\n\u001b[1;32m--> 860\u001b[1;33m         return self._input_request(str(prompt),\n\u001b[0m\u001b[0;32m    861\u001b[0m             \u001b[0mself\u001b[0m\u001b[1;33m.\u001b[0m\u001b[0m_parent_ident\u001b[0m\u001b[1;33m,\u001b[0m\u001b[1;33m\u001b[0m\u001b[1;33m\u001b[0m\u001b[0m\n\u001b[0;32m    862\u001b[0m             \u001b[0mself\u001b[0m\u001b[1;33m.\u001b[0m\u001b[0m_parent_header\u001b[0m\u001b[1;33m,\u001b[0m\u001b[1;33m\u001b[0m\u001b[1;33m\u001b[0m\u001b[0m\n",
      "\u001b[1;32m~\\anaconda3\\lib\\site-packages\\ipykernel\\kernelbase.py\u001b[0m in \u001b[0;36m_input_request\u001b[1;34m(self, prompt, ident, parent, password)\u001b[0m\n\u001b[0;32m    902\u001b[0m             \u001b[1;32mexcept\u001b[0m \u001b[0mKeyboardInterrupt\u001b[0m\u001b[1;33m:\u001b[0m\u001b[1;33m\u001b[0m\u001b[1;33m\u001b[0m\u001b[0m\n\u001b[0;32m    903\u001b[0m                 \u001b[1;31m# re-raise KeyboardInterrupt, to truncate traceback\u001b[0m\u001b[1;33m\u001b[0m\u001b[1;33m\u001b[0m\u001b[1;33m\u001b[0m\u001b[0m\n\u001b[1;32m--> 904\u001b[1;33m                 \u001b[1;32mraise\u001b[0m \u001b[0mKeyboardInterrupt\u001b[0m\u001b[1;33m(\u001b[0m\u001b[1;34m\"Interrupted by user\"\u001b[0m\u001b[1;33m)\u001b[0m \u001b[1;32mfrom\u001b[0m \u001b[1;32mNone\u001b[0m\u001b[1;33m\u001b[0m\u001b[1;33m\u001b[0m\u001b[0m\n\u001b[0m\u001b[0;32m    905\u001b[0m             \u001b[1;32mexcept\u001b[0m \u001b[0mException\u001b[0m \u001b[1;32mas\u001b[0m \u001b[0me\u001b[0m\u001b[1;33m:\u001b[0m\u001b[1;33m\u001b[0m\u001b[1;33m\u001b[0m\u001b[0m\n\u001b[0;32m    906\u001b[0m                 \u001b[0mself\u001b[0m\u001b[1;33m.\u001b[0m\u001b[0mlog\u001b[0m\u001b[1;33m.\u001b[0m\u001b[0mwarning\u001b[0m\u001b[1;33m(\u001b[0m\u001b[1;34m\"Invalid Message:\"\u001b[0m\u001b[1;33m,\u001b[0m \u001b[0mexc_info\u001b[0m\u001b[1;33m=\u001b[0m\u001b[1;32mTrue\u001b[0m\u001b[1;33m)\u001b[0m\u001b[1;33m\u001b[0m\u001b[1;33m\u001b[0m\u001b[0m\n",
      "\u001b[1;31mKeyboardInterrupt\u001b[0m: Interrupted by user"
     ]
    }
   ],
   "source": [
    "vaildation = True\n",
    "error = 1\n",
    "while True:    \n",
    "    x = (input(\"\\n 請輸入五位數字: \"))\n",
    "    if str(x).isnumeric() == True:\n",
    "        print(\"輸入為數字\")\n",
    "        if int(x) < 10000 or  int(x) > 99999:\n",
    "            print(\"\\n 剛剛輸入不是五位數\")\n",
    "            y = input(\"\\n 是否要再次輸入? Y/N \\n\")\n",
    "            if y ==\"Y\" or y==\"y\":\n",
    "                \n",
    "                print(\"錯誤 {} 次 \\n\".format(error))\n",
    "                error +=1\n",
    "                continue\n",
    "            elif y ==\"N\" or y==\"n\":\n",
    "                print(\"結束\")\n",
    "                break\n",
    "            else:\n",
    "                print(\"進入pass\")\n",
    "                print(\"錯誤 {} 次 \\n\".format(error))\n",
    "                error +=1\n",
    "                pass\n",
    "        else:\n",
    "            print(\"建立資料\")\n",
    "    else : \n",
    "            #print(\"輸入不為數字\")\n",
    "            #print(\"錯誤 {} 次 \\n\".format(error))\n",
    "            #error +=1\n",
    "            continue\n",
    "            #break\n",
    "            #pass"
   ]
  },
  {
   "cell_type": "code",
   "execution_count": 25,
   "metadata": {},
   "outputs": [
    {
     "name": "stdout",
     "output_type": "stream",
     "text": [
      "請輸入總工作時間(單位小時):100\n",
      "計算公式: 60小時*75元 + 15小時*90元 + 25小時*130元\n",
      "總共薪水是: 9100.0 元\n"
     ]
    }
   ],
   "source": [
    "def cal_salary(work_h):\n",
    "    if work_h>75:\n",
    "        print(f'計算公式: 60小時*75元 + 15小時*90元 + {work_h-75}小時*130元')\n",
    "        return((60*75)+(15*90)+(work_h-75)*130)\n",
    "    elif work_h>60 and work_h<=75:\n",
    "        print(f'計算公式: 60小時*75元 + {work_h-60}小時*90元')\n",
    "        return((60*75)+(work_h-60)*90)\n",
    "    else:\n",
    "        print(f'計算公式: {work_h}小時*75元')\n",
    "        return(work_h*75)\n",
    "\n",
    "h = int(input(\"請輸入總工作時間(單位小時):\"))\n",
    "print(f'總共薪水是: {cal_salary(h):.1f} 元')"
   ]
  },
  {
   "cell_type": "code",
   "execution_count": null,
   "metadata": {},
   "outputs": [],
   "source": []
  },
  {
   "cell_type": "code",
   "execution_count": null,
   "metadata": {},
   "outputs": [],
   "source": []
  },
  {
   "cell_type": "code",
   "execution_count": null,
   "metadata": {},
   "outputs": [],
   "source": []
  }
 ],
 "metadata": {
  "kernelspec": {
   "display_name": "Python 3",
   "language": "python",
   "name": "python3"
  },
  "language_info": {
   "codemirror_mode": {
    "name": "ipython",
    "version": 3
   },
   "file_extension": ".py",
   "mimetype": "text/x-python",
   "name": "python",
   "nbconvert_exporter": "python",
   "pygments_lexer": "ipython3",
   "version": "3.8.3"
  }
 },
 "nbformat": 4,
 "nbformat_minor": 4
}
